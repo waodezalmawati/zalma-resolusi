{
  "nbformat": 4,
  "nbformat_minor": 0,
  "metadata": {
    "colab": {
      "name": "fuzzyfis.ipynb",
      "provenance": [],
      "collapsed_sections": [],
      "authorship_tag": "ABX9TyPQQWSwOLU6/YO0zKMSsL3N",
      "include_colab_link": true
    },
    "kernelspec": {
      "name": "python3",
      "display_name": "Python 3"
    }
  },
  "cells": [
    {
      "cell_type": "markdown",
      "metadata": {
        "id": "view-in-github",
        "colab_type": "text"
      },
      "source": [
        "<a href=\"https://colab.research.google.com/github/waodezalmawati/zalma-resolusi/blob/master/fuzzyfis.ipynb\" target=\"_parent\"><img src=\"https://colab.research.google.com/assets/colab-badge.svg\" alt=\"Open In Colab\"/></a>"
      ]
    },
    {
      "cell_type": "markdown",
      "metadata": {
        "id": "Sa6FVpnOQQ78"
      },
      "source": [
        "TUGAS SISTEM CERDAS\n",
        "42518025-WA ODE ZALMAWATI"
      ]
    },
    {
      "cell_type": "code",
      "metadata": {
        "id": "bOHHAc3EPvQ_"
      },
      "source": [
        "import numpy as np\n",
        "import pandas as pd"
      ],
      "execution_count": 58,
      "outputs": []
    },
    {
      "cell_type": "code",
      "metadata": {
        "id": "tIDDGdVfQOCD"
      },
      "source": [
        "data_karyawan = pd.read_csv(\"sample_data/karyawan.csv\")"
      ],
      "execution_count": 59,
      "outputs": []
    },
    {
      "cell_type": "code",
      "metadata": {
        "id": "Tyu3gyhbQOkD",
        "outputId": "60c18351-587f-4e98-989f-b7f0c57798e8",
        "colab": {
          "base_uri": "https://localhost:8080/",
          "height": 359
        }
      },
      "source": [
        "data_karyawan"
      ],
      "execution_count": 60,
      "outputs": [
        {
          "output_type": "execute_result",
          "data": {
            "text/html": [
              "<div>\n",
              "<style scoped>\n",
              "    .dataframe tbody tr th:only-of-type {\n",
              "        vertical-align: middle;\n",
              "    }\n",
              "\n",
              "    .dataframe tbody tr th {\n",
              "        vertical-align: top;\n",
              "    }\n",
              "\n",
              "    .dataframe thead th {\n",
              "        text-align: right;\n",
              "    }\n",
              "</style>\n",
              "<table border=\"1\" class=\"dataframe\">\n",
              "  <thead>\n",
              "    <tr style=\"text-align: right;\">\n",
              "      <th></th>\n",
              "      <th>NIP</th>\n",
              "      <th>Nama</th>\n",
              "      <th>Umur</th>\n",
              "      <th>Masa Kerja</th>\n",
              "      <th>Gaji</th>\n",
              "    </tr>\n",
              "  </thead>\n",
              "  <tbody>\n",
              "    <tr>\n",
              "      <th>0</th>\n",
              "      <td>ID01</td>\n",
              "      <td>Alma</td>\n",
              "      <td>20</td>\n",
              "      <td>6</td>\n",
              "      <td>750</td>\n",
              "    </tr>\n",
              "    <tr>\n",
              "      <th>1</th>\n",
              "      <td>ID02</td>\n",
              "      <td>Calvin</td>\n",
              "      <td>19</td>\n",
              "      <td>15</td>\n",
              "      <td>1500</td>\n",
              "    </tr>\n",
              "    <tr>\n",
              "      <th>2</th>\n",
              "      <td>ID03</td>\n",
              "      <td>Zalma</td>\n",
              "      <td>18</td>\n",
              "      <td>10</td>\n",
              "      <td>1250</td>\n",
              "    </tr>\n",
              "    <tr>\n",
              "      <th>3</th>\n",
              "      <td>ID04</td>\n",
              "      <td>Fikram</td>\n",
              "      <td>20</td>\n",
              "      <td>4</td>\n",
              "      <td>900</td>\n",
              "    </tr>\n",
              "    <tr>\n",
              "      <th>4</th>\n",
              "      <td>ID05</td>\n",
              "      <td>Uni</td>\n",
              "      <td>19</td>\n",
              "      <td>5</td>\n",
              "      <td>950</td>\n",
              "    </tr>\n",
              "    <tr>\n",
              "      <th>5</th>\n",
              "      <td>ID06</td>\n",
              "      <td>Kevin</td>\n",
              "      <td>19</td>\n",
              "      <td>12</td>\n",
              "      <td>1500</td>\n",
              "    </tr>\n",
              "    <tr>\n",
              "      <th>6</th>\n",
              "      <td>ID07</td>\n",
              "      <td>Cinta</td>\n",
              "      <td>18</td>\n",
              "      <td>9</td>\n",
              "      <td>700</td>\n",
              "    </tr>\n",
              "    <tr>\n",
              "      <th>7</th>\n",
              "      <td>ID08</td>\n",
              "      <td>Sisil</td>\n",
              "      <td>20</td>\n",
              "      <td>6</td>\n",
              "      <td>680</td>\n",
              "    </tr>\n",
              "    <tr>\n",
              "      <th>8</th>\n",
              "      <td>ID09</td>\n",
              "      <td>Salsa</td>\n",
              "      <td>20</td>\n",
              "      <td>2</td>\n",
              "      <td>940</td>\n",
              "    </tr>\n",
              "    <tr>\n",
              "      <th>9</th>\n",
              "      <td>ID10</td>\n",
              "      <td>Arni</td>\n",
              "      <td>19</td>\n",
              "      <td>8</td>\n",
              "      <td>1250</td>\n",
              "    </tr>\n",
              "  </tbody>\n",
              "</table>\n",
              "</div>"
            ],
            "text/plain": [
              "    NIP    Nama   Umur   Masa Kerja   Gaji\n",
              "0  ID01    Alma     20            6    750\n",
              "1  ID02  Calvin     19           15   1500\n",
              "2  ID03   Zalma     18           10   1250\n",
              "3  ID04  Fikram     20            4    900\n",
              "4  ID05     Uni     19            5    950\n",
              "5  ID06   Kevin     19           12   1500\n",
              "6  ID07   Cinta     18            9    700\n",
              "7  ID08   Sisil     20            6    680\n",
              "8  ID09   Salsa     20            2    940\n",
              "9  ID10    Arni     19            8   1250"
            ]
          },
          "metadata": {
            "tags": []
          },
          "execution_count": 60
        }
      ]
    },
    {
      "cell_type": "code",
      "metadata": {
        "id": "Aou2K9_XKk2T"
      },
      "source": [
        "data_umur = np.array(data_karyawan)\n",
        "data_umur = data_umur[:,[0,2]]"
      ],
      "execution_count": 61,
      "outputs": []
    },
    {
      "cell_type": "code",
      "metadata": {
        "id": "Ay1MutktLAiT",
        "outputId": "69280474-0f68-4bfc-afc5-83f89896b842",
        "colab": {
          "base_uri": "https://localhost:8080/",
          "height": 376
        }
      },
      "source": [
        "print(\"index=0 Id Karyawan, 1=Umur\")\n",
        "pd.DataFrame(data_umur)"
      ],
      "execution_count": 64,
      "outputs": [
        {
          "output_type": "stream",
          "text": [
            "index=0 Id Karyawan, 1=Umur\n"
          ],
          "name": "stdout"
        },
        {
          "output_type": "execute_result",
          "data": {
            "text/html": [
              "<div>\n",
              "<style scoped>\n",
              "    .dataframe tbody tr th:only-of-type {\n",
              "        vertical-align: middle;\n",
              "    }\n",
              "\n",
              "    .dataframe tbody tr th {\n",
              "        vertical-align: top;\n",
              "    }\n",
              "\n",
              "    .dataframe thead th {\n",
              "        text-align: right;\n",
              "    }\n",
              "</style>\n",
              "<table border=\"1\" class=\"dataframe\">\n",
              "  <thead>\n",
              "    <tr style=\"text-align: right;\">\n",
              "      <th></th>\n",
              "      <th>0</th>\n",
              "      <th>1</th>\n",
              "    </tr>\n",
              "  </thead>\n",
              "  <tbody>\n",
              "    <tr>\n",
              "      <th>0</th>\n",
              "      <td>ID01</td>\n",
              "      <td>20</td>\n",
              "    </tr>\n",
              "    <tr>\n",
              "      <th>1</th>\n",
              "      <td>ID02</td>\n",
              "      <td>19</td>\n",
              "    </tr>\n",
              "    <tr>\n",
              "      <th>2</th>\n",
              "      <td>ID03</td>\n",
              "      <td>18</td>\n",
              "    </tr>\n",
              "    <tr>\n",
              "      <th>3</th>\n",
              "      <td>ID04</td>\n",
              "      <td>20</td>\n",
              "    </tr>\n",
              "    <tr>\n",
              "      <th>4</th>\n",
              "      <td>ID05</td>\n",
              "      <td>19</td>\n",
              "    </tr>\n",
              "    <tr>\n",
              "      <th>5</th>\n",
              "      <td>ID06</td>\n",
              "      <td>19</td>\n",
              "    </tr>\n",
              "    <tr>\n",
              "      <th>6</th>\n",
              "      <td>ID07</td>\n",
              "      <td>18</td>\n",
              "    </tr>\n",
              "    <tr>\n",
              "      <th>7</th>\n",
              "      <td>ID08</td>\n",
              "      <td>20</td>\n",
              "    </tr>\n",
              "    <tr>\n",
              "      <th>8</th>\n",
              "      <td>ID09</td>\n",
              "      <td>20</td>\n",
              "    </tr>\n",
              "    <tr>\n",
              "      <th>9</th>\n",
              "      <td>ID10</td>\n",
              "      <td>19</td>\n",
              "    </tr>\n",
              "  </tbody>\n",
              "</table>\n",
              "</div>"
            ],
            "text/plain": [
              "      0   1\n",
              "0  ID01  20\n",
              "1  ID02  19\n",
              "2  ID03  18\n",
              "3  ID04  20\n",
              "4  ID05  19\n",
              "5  ID06  19\n",
              "6  ID07  18\n",
              "7  ID08  20\n",
              "8  ID09  20\n",
              "9  ID10  19"
            ]
          },
          "metadata": {
            "tags": []
          },
          "execution_count": 64
        }
      ]
    },
    {
      "cell_type": "code",
      "metadata": {
        "id": "FFQEDRTyNmZo"
      },
      "source": [
        "data_masa_kerja = np.array(data_karyawan)\n",
        "data_masa_kerja = data_masa_kerja[:,[0,3]]"
      ],
      "execution_count": 65,
      "outputs": []
    },
    {
      "cell_type": "code",
      "metadata": {
        "id": "Zwi29bg9N6MD",
        "outputId": "a4740101-0669-4484-d65c-592a274e8b34",
        "colab": {
          "base_uri": "https://localhost:8080/",
          "height": 376
        }
      },
      "source": [
        "print(\"index=0 id karyawan, 1 = masa kerja\")\n",
        "pd.DataFrame(data_masa_kerja)"
      ],
      "execution_count": 66,
      "outputs": [
        {
          "output_type": "stream",
          "text": [
            "index=0 id karyawan, 1 = masa kerja\n"
          ],
          "name": "stdout"
        },
        {
          "output_type": "execute_result",
          "data": {
            "text/html": [
              "<div>\n",
              "<style scoped>\n",
              "    .dataframe tbody tr th:only-of-type {\n",
              "        vertical-align: middle;\n",
              "    }\n",
              "\n",
              "    .dataframe tbody tr th {\n",
              "        vertical-align: top;\n",
              "    }\n",
              "\n",
              "    .dataframe thead th {\n",
              "        text-align: right;\n",
              "    }\n",
              "</style>\n",
              "<table border=\"1\" class=\"dataframe\">\n",
              "  <thead>\n",
              "    <tr style=\"text-align: right;\">\n",
              "      <th></th>\n",
              "      <th>0</th>\n",
              "      <th>1</th>\n",
              "    </tr>\n",
              "  </thead>\n",
              "  <tbody>\n",
              "    <tr>\n",
              "      <th>0</th>\n",
              "      <td>ID01</td>\n",
              "      <td>6</td>\n",
              "    </tr>\n",
              "    <tr>\n",
              "      <th>1</th>\n",
              "      <td>ID02</td>\n",
              "      <td>15</td>\n",
              "    </tr>\n",
              "    <tr>\n",
              "      <th>2</th>\n",
              "      <td>ID03</td>\n",
              "      <td>10</td>\n",
              "    </tr>\n",
              "    <tr>\n",
              "      <th>3</th>\n",
              "      <td>ID04</td>\n",
              "      <td>4</td>\n",
              "    </tr>\n",
              "    <tr>\n",
              "      <th>4</th>\n",
              "      <td>ID05</td>\n",
              "      <td>5</td>\n",
              "    </tr>\n",
              "    <tr>\n",
              "      <th>5</th>\n",
              "      <td>ID06</td>\n",
              "      <td>12</td>\n",
              "    </tr>\n",
              "    <tr>\n",
              "      <th>6</th>\n",
              "      <td>ID07</td>\n",
              "      <td>9</td>\n",
              "    </tr>\n",
              "    <tr>\n",
              "      <th>7</th>\n",
              "      <td>ID08</td>\n",
              "      <td>6</td>\n",
              "    </tr>\n",
              "    <tr>\n",
              "      <th>8</th>\n",
              "      <td>ID09</td>\n",
              "      <td>2</td>\n",
              "    </tr>\n",
              "    <tr>\n",
              "      <th>9</th>\n",
              "      <td>ID10</td>\n",
              "      <td>8</td>\n",
              "    </tr>\n",
              "  </tbody>\n",
              "</table>\n",
              "</div>"
            ],
            "text/plain": [
              "      0   1\n",
              "0  ID01   6\n",
              "1  ID02  15\n",
              "2  ID03  10\n",
              "3  ID04   4\n",
              "4  ID05   5\n",
              "5  ID06  12\n",
              "6  ID07   9\n",
              "7  ID08   6\n",
              "8  ID09   2\n",
              "9  ID10   8"
            ]
          },
          "metadata": {
            "tags": []
          },
          "execution_count": 66
        }
      ]
    },
    {
      "cell_type": "code",
      "metadata": {
        "id": "Egev94CPOAV6"
      },
      "source": [
        "data_gaji = np.array(data_karyawan)\n",
        "data_gaji = data_gaji[:,[0,4]]"
      ],
      "execution_count": 67,
      "outputs": []
    },
    {
      "cell_type": "code",
      "metadata": {
        "id": "NMPmwkcGOVxn",
        "outputId": "b14b270c-32a4-4603-d675-8b3421ea66c5",
        "colab": {
          "base_uri": "https://localhost:8080/",
          "height": 376
        }
      },
      "source": [
        "print(\"index=0 Id Karyawan, 1 = Gaji\")\n",
        "pd.DataFrame(data_gaji)"
      ],
      "execution_count": 68,
      "outputs": [
        {
          "output_type": "stream",
          "text": [
            "index=0 Id Karyawan, 1 = Gaji\n"
          ],
          "name": "stdout"
        },
        {
          "output_type": "execute_result",
          "data": {
            "text/html": [
              "<div>\n",
              "<style scoped>\n",
              "    .dataframe tbody tr th:only-of-type {\n",
              "        vertical-align: middle;\n",
              "    }\n",
              "\n",
              "    .dataframe tbody tr th {\n",
              "        vertical-align: top;\n",
              "    }\n",
              "\n",
              "    .dataframe thead th {\n",
              "        text-align: right;\n",
              "    }\n",
              "</style>\n",
              "<table border=\"1\" class=\"dataframe\">\n",
              "  <thead>\n",
              "    <tr style=\"text-align: right;\">\n",
              "      <th></th>\n",
              "      <th>0</th>\n",
              "      <th>1</th>\n",
              "    </tr>\n",
              "  </thead>\n",
              "  <tbody>\n",
              "    <tr>\n",
              "      <th>0</th>\n",
              "      <td>ID01</td>\n",
              "      <td>750</td>\n",
              "    </tr>\n",
              "    <tr>\n",
              "      <th>1</th>\n",
              "      <td>ID02</td>\n",
              "      <td>1500</td>\n",
              "    </tr>\n",
              "    <tr>\n",
              "      <th>2</th>\n",
              "      <td>ID03</td>\n",
              "      <td>1250</td>\n",
              "    </tr>\n",
              "    <tr>\n",
              "      <th>3</th>\n",
              "      <td>ID04</td>\n",
              "      <td>900</td>\n",
              "    </tr>\n",
              "    <tr>\n",
              "      <th>4</th>\n",
              "      <td>ID05</td>\n",
              "      <td>950</td>\n",
              "    </tr>\n",
              "    <tr>\n",
              "      <th>5</th>\n",
              "      <td>ID06</td>\n",
              "      <td>1500</td>\n",
              "    </tr>\n",
              "    <tr>\n",
              "      <th>6</th>\n",
              "      <td>ID07</td>\n",
              "      <td>700</td>\n",
              "    </tr>\n",
              "    <tr>\n",
              "      <th>7</th>\n",
              "      <td>ID08</td>\n",
              "      <td>680</td>\n",
              "    </tr>\n",
              "    <tr>\n",
              "      <th>8</th>\n",
              "      <td>ID09</td>\n",
              "      <td>940</td>\n",
              "    </tr>\n",
              "    <tr>\n",
              "      <th>9</th>\n",
              "      <td>ID10</td>\n",
              "      <td>1250</td>\n",
              "    </tr>\n",
              "  </tbody>\n",
              "</table>\n",
              "</div>"
            ],
            "text/plain": [
              "      0     1\n",
              "0  ID01   750\n",
              "1  ID02  1500\n",
              "2  ID03  1250\n",
              "3  ID04   900\n",
              "4  ID05   950\n",
              "5  ID06  1500\n",
              "6  ID07   700\n",
              "7  ID08   680\n",
              "8  ID09   940\n",
              "9  ID10  1250"
            ]
          },
          "metadata": {
            "tags": []
          },
          "execution_count": 68
        }
      ]
    },
    {
      "cell_type": "code",
      "metadata": {
        "id": "yIg39VS2Ocp0",
        "outputId": "d9f803f4-8179-4f6b-f5de-b825b5dacec6",
        "colab": {
          "base_uri": "https://localhost:8080/",
          "height": 187
        }
      },
      "source": [
        "#memisahkan data (umur)\n",
        "umur_01 = np.sum(data_umur[0:1,1], axis=0)\n",
        "umur_02 = np.sum(data_umur[1:2,1], axis=0)\n",
        "umur_03 = np.sum(data_umur[2:3,1], axis=0)\n",
        "umur_04 = np.sum(data_umur[3:4,1], axis=0)\n",
        "umur_05 = np.sum(data_umur[4:5,1], axis=0)\n",
        "umur_06 = np.sum(data_umur[5:6,1], axis=0)\n",
        "umur_07 = np.sum(data_umur[6:7,1], axis=0)\n",
        "umur_08 = np.sum(data_umur[7:8,1], axis=0)\n",
        "umur_09 = np.sum(data_umur[8:9,1], axis=0)\n",
        "umur_10 = np.sum(data_umur[9:10,1], axis=0)\n",
        "print(\"umur_01 : \", umur_01)\n",
        "print(\"umur_02 : \", umur_02)\n",
        "print(\"umur_03 : \", umur_03)\n",
        "print(\"umur_04 : \", umur_04)\n",
        "print(\"umur_05 : \", umur_05)\n",
        "print(\"umur_06 : \", umur_06)\n",
        "print(\"umur_07 : \", umur_07)\n",
        "print(\"umur_08 : \", umur_08)\n",
        "print(\"umur_09 : \", umur_09)\n",
        "print(\"umur_10 : \", umur_10)\n",
        "\n"
      ],
      "execution_count": 69,
      "outputs": [
        {
          "output_type": "stream",
          "text": [
            "umur_01 :  20\n",
            "umur_02 :  19\n",
            "umur_03 :  18\n",
            "umur_04 :  20\n",
            "umur_05 :  19\n",
            "umur_06 :  19\n",
            "umur_07 :  18\n",
            "umur_08 :  20\n",
            "umur_09 :  20\n",
            "umur_10 :  19\n"
          ],
          "name": "stdout"
        }
      ]
    },
    {
      "cell_type": "code",
      "metadata": {
        "id": "57j2IpGcPCU9",
        "outputId": "2846d2c9-7ced-4e61-c540-aba602e819ea",
        "colab": {
          "base_uri": "https://localhost:8080/",
          "height": 187
        }
      },
      "source": [
        "#masa kerja\n",
        "masa_kerja_01 = np.sum(data_masa_kerja[0:1,1], axis=0)\n",
        "masa_kerja_02 = np.sum(data_masa_kerja[1:2,1], axis=0)\n",
        "masa_kerja_03 = np.sum(data_masa_kerja[2:3,1], axis=0)\n",
        "masa_kerja_04 = np.sum(data_masa_kerja[3:4,1], axis=0)\n",
        "masa_kerja_05 = np.sum(data_masa_kerja[4:5,1], axis=0)\n",
        "masa_kerja_06 = np.sum(data_masa_kerja[5:6,1], axis=0)\n",
        "masa_kerja_07 = np.sum(data_masa_kerja[6:7,1], axis=0)\n",
        "masa_kerja_08 = np.sum(data_masa_kerja[7:8,1], axis=0)\n",
        "masa_kerja_09 = np.sum(data_masa_kerja[8:9,1], axis=0)\n",
        "masa_kerja_10 = np.sum(data_masa_kerja[9:10,1], axis=0)\n",
        "\n",
        "print(\"masa_kerja_01: \", masa_kerja_01)\n",
        "print(\"masa_kerja_02: \", masa_kerja_02)\n",
        "print(\"masa_kerja_03: \", masa_kerja_03)\n",
        "print(\"masa_kerja_04: \", masa_kerja_04)\n",
        "print(\"masa_kerja_05: \", masa_kerja_05)\n",
        "print(\"masa_kerja_06: \", masa_kerja_06)\n",
        "print(\"masa_kerja_07: \", masa_kerja_07)\n",
        "print(\"masa_kerja_08: \", masa_kerja_08)\n",
        "print(\"masa_kerja_09: \", masa_kerja_09)\n",
        "print(\"masa_kerja_10: \", masa_kerja_10)"
      ],
      "execution_count": 70,
      "outputs": [
        {
          "output_type": "stream",
          "text": [
            "masa_kerja_01:  6\n",
            "masa_kerja_02:  15\n",
            "masa_kerja_03:  10\n",
            "masa_kerja_04:  4\n",
            "masa_kerja_05:  5\n",
            "masa_kerja_06:  12\n",
            "masa_kerja_07:  9\n",
            "masa_kerja_08:  6\n",
            "masa_kerja_09:  2\n",
            "masa_kerja_10:  8\n"
          ],
          "name": "stdout"
        }
      ]
    },
    {
      "cell_type": "code",
      "metadata": {
        "id": "SibqrlKlP-LS",
        "outputId": "325a2393-1a6c-4785-de1f-39b9748a3efc",
        "colab": {
          "base_uri": "https://localhost:8080/",
          "height": 187
        }
      },
      "source": [
        "#gaji\n",
        "gaji_01 = np.sum(data_gaji[0:1,1], axis=0)\n",
        "gaji_02 = np.sum(data_gaji[1:2,1], axis=0)\n",
        "gaji_03 = np.sum(data_gaji[2:3,1], axis=0)\n",
        "gaji_04 = np.sum(data_gaji[3:4,1], axis=0)\n",
        "gaji_05 = np.sum(data_gaji[4:5,1], axis=0)\n",
        "gaji_06 = np.sum(data_gaji[5:6,1], axis=0)\n",
        "gaji_07 = np.sum(data_gaji[6:7,1], axis=0)\n",
        "gaji_08 = np.sum(data_gaji[7:8,1], axis=0)\n",
        "gaji_09 = np.sum(data_gaji[8:9,1], axis=0)\n",
        "gaji_10 = np.sum(data_gaji[9:10,1], axis=0)\n",
        "\n",
        "print(\"gaji_01: \", gaji_01)\n",
        "print(\"gaji_02: \", gaji_02)\n",
        "print(\"gaji_03: \", gaji_03)\n",
        "print(\"gaji_04: \", gaji_04)\n",
        "print(\"gaji_05: \", gaji_05)\n",
        "print(\"gaji_06: \", gaji_06)\n",
        "print(\"gaji_07: \", gaji_07)\n",
        "print(\"gaji_08: \", gaji_08)\n",
        "print(\"gaji_09: \", gaji_09)\n",
        "print(\"gaji_10: \", gaji_10)"
      ],
      "execution_count": 71,
      "outputs": [
        {
          "output_type": "stream",
          "text": [
            "gaji_01:  750\n",
            "gaji_02:  1500\n",
            "gaji_03:  1250\n",
            "gaji_04:  900\n",
            "gaji_05:  950\n",
            "gaji_06:  1500\n",
            "gaji_07:  700\n",
            "gaji_08:  680\n",
            "gaji_09:  940\n",
            "gaji_10:  1250\n"
          ],
          "name": "stdout"
        }
      ]
    },
    {
      "cell_type": "code",
      "metadata": {
        "id": "i07GL4xKRMX2",
        "outputId": "c44677e3-92cd-4535-f049-f74ca718a036",
        "colab": {
          "base_uri": "https://localhost:8080/",
          "height": 275
        }
      },
      "source": [
        "pip install -U scikit-fuzzy"
      ],
      "execution_count": null,
      "outputs": [
        {
          "output_type": "stream",
          "text": [
            "Collecting scikit-fuzzy\n",
            "\u001b[?25l  Downloading https://files.pythonhosted.org/packages/6c/f0/5eb5dbe0fd8dfe7d4651a8f4e591a196623a22b9e5339101e559695b4f6c/scikit-fuzzy-0.4.2.tar.gz (993kB)\n",
            "\r\u001b[K     |▎                               | 10kB 15.6MB/s eta 0:00:01\r\u001b[K     |▋                               | 20kB 3.3MB/s eta 0:00:01\r\u001b[K     |█                               | 30kB 4.3MB/s eta 0:00:01\r\u001b[K     |█▎                              | 40kB 4.5MB/s eta 0:00:01\r\u001b[K     |█▋                              | 51kB 3.9MB/s eta 0:00:01\r\u001b[K     |██                              | 61kB 4.2MB/s eta 0:00:01\r\u001b[K     |██▎                             | 71kB 4.4MB/s eta 0:00:01\r\u001b[K     |██▋                             | 81kB 4.9MB/s eta 0:00:01\r\u001b[K     |███                             | 92kB 5.3MB/s eta 0:00:01\r\u001b[K     |███▎                            | 102kB 5.0MB/s eta 0:00:01\r\u001b[K     |███▋                            | 112kB 5.0MB/s eta 0:00:01\r\u001b[K     |████                            | 122kB 5.0MB/s eta 0:00:01\r\u001b[K     |████▎                           | 133kB 5.0MB/s eta 0:00:01\r\u001b[K     |████▋                           | 143kB 5.0MB/s eta 0:00:01\r\u001b[K     |█████                           | 153kB 5.0MB/s eta 0:00:01\r\u001b[K     |█████▎                          | 163kB 5.0MB/s eta 0:00:01\r\u001b[K     |█████▋                          | 174kB 5.0MB/s eta 0:00:01\r\u001b[K     |██████                          | 184kB 5.0MB/s eta 0:00:01\r\u001b[K     |██████▎                         | 194kB 5.0MB/s eta 0:00:01\r\u001b[K     |██████▋                         | 204kB 5.0MB/s eta 0:00:01\r\u001b[K     |███████                         | 215kB 5.0MB/s eta 0:00:01\r\u001b[K     |███████▎                        | 225kB 5.0MB/s eta 0:00:01\r\u001b[K     |███████▋                        | 235kB 5.0MB/s eta 0:00:01\r\u001b[K     |████████                        | 245kB 5.0MB/s eta 0:00:01\r\u001b[K     |████████▎                       | 256kB 5.0MB/s eta 0:00:01\r\u001b[K     |████████▋                       | 266kB 5.0MB/s eta 0:00:01\r\u001b[K     |█████████                       | 276kB 5.0MB/s eta 0:00:01\r\u001b[K     |█████████▎                      | 286kB 5.0MB/s eta 0:00:01\r\u001b[K     |█████████▋                      | 296kB 5.0MB/s eta 0:00:01\r\u001b[K     |██████████                      | 307kB 5.0MB/s eta 0:00:01\r\u001b[K     |██████████▏                     | 317kB 5.0MB/s eta 0:00:01\r\u001b[K     |██████████▌                     | 327kB 5.0MB/s eta 0:00:01\r\u001b[K     |██████████▉                     | 337kB 5.0MB/s eta 0:00:01\r\u001b[K     |███████████▏                    | 348kB 5.0MB/s eta 0:00:01\r\u001b[K     |███████████▌                    | 358kB 5.0MB/s eta 0:00:01\r\u001b[K     |███████████▉                    | 368kB 5.0MB/s eta 0:00:01\r\u001b[K     |████████████▏                   | 378kB 5.0MB/s eta 0:00:01\r\u001b[K     |████████████▌                   | 389kB 5.0MB/s eta 0:00:01\r\u001b[K     |████████████▉                   | 399kB 5.0MB/s eta 0:00:01\r\u001b[K     |█████████████▏                  | 409kB 5.0MB/s eta 0:00:01\r\u001b[K     |█████████████▌                  | 419kB 5.0MB/s eta 0:00:01\r\u001b[K     |█████████████▉                  | 430kB 5.0MB/s eta 0:00:01\r\u001b[K     |██████████████▏                 | 440kB 5.0MB/s eta 0:00:01\r\u001b[K     |██████████████▌                 | 450kB 5.0MB/s eta 0:00:01\r\u001b[K     |██████████████▉                 | 460kB 5.0MB/s eta 0:00:01\r\u001b[K     |███████████████▏                | 471kB 5.0MB/s eta 0:00:01\r\u001b[K     |███████████████▌                | 481kB 5.0MB/s eta 0:00:01\r\u001b[K     |███████████████▉                | 491kB 5.0MB/s eta 0:00:01\r\u001b[K     |████████████████▏               | 501kB 5.0MB/s eta 0:00:01\r\u001b[K     |████████████████▌               | 512kB 5.0MB/s eta 0:00:01\r\u001b[K     |████████████████▉               | 522kB 5.0MB/s eta 0:00:01\r\u001b[K     |█████████████████▏              | 532kB 5.0MB/s eta 0:00:01\r\u001b[K     |█████████████████▌              | 542kB 5.0MB/s eta 0:00:01\r\u001b[K     |█████████████████▉              | 552kB 5.0MB/s eta 0:00:01\r\u001b[K     |██████████████████▏             | 563kB 5.0MB/s eta 0:00:01\r\u001b[K     |██████████████████▌             | 573kB 5.0MB/s eta 0:00:01\r\u001b[K     |██████████████████▉             | 583kB 5.0MB/s eta 0:00:01\r\u001b[K     |███████████████████▏            | 593kB 5.0MB/s eta 0:00:01\r\u001b[K     |███████████████████▌            | 604kB 5.0MB/s eta 0:00:01\r\u001b[K     |███████████████████▉            | 614kB 5.0MB/s eta 0:00:01\r\u001b[K     |████████████████████            | 624kB 5.0MB/s eta 0:00:01\r\u001b[K     |████████████████████▍           | 634kB 5.0MB/s eta 0:00:01\r\u001b[K     |████████████████████▊           | 645kB 5.0MB/s eta 0:00:01\r\u001b[K     |█████████████████████           | 655kB 5.0MB/s eta 0:00:01\r\u001b[K     |█████████████████████▍          | 665kB 5.0MB/s eta 0:00:01\r\u001b[K     |█████████████████████▊          | 675kB 5.0MB/s eta 0:00:01\r\u001b[K     |██████████████████████          | 686kB 5.0MB/s eta 0:00:01\r\u001b[K     |██████████████████████▍         | 696kB 5.0MB/s eta 0:00:01\r\u001b[K     |██████████████████████▊         | 706kB 5.0MB/s eta 0:00:01\r\u001b[K     |███████████████████████         | 716kB 5.0MB/s eta 0:00:01\r\u001b[K     |███████████████████████▍        | 727kB 5.0MB/s eta 0:00:01\r\u001b[K     |███████████████████████▊        | 737kB 5.0MB/s eta 0:00:01\r\u001b[K     |████████████████████████        | 747kB 5.0MB/s eta 0:00:01\r\u001b[K     |████████████████████████▍       | 757kB 5.0MB/s eta 0:00:01\r\u001b[K     |████████████████████████▊       | 768kB 5.0MB/s eta 0:00:01\r\u001b[K     |█████████████████████████       | 778kB 5.0MB/s eta 0:00:01\r\u001b[K     |█████████████████████████▍      | 788kB 5.0MB/s eta 0:00:01\r\u001b[K     |█████████████████████████▊      | 798kB 5.0MB/s eta 0:00:01\r\u001b[K     |██████████████████████████      | 808kB 5.0MB/s eta 0:00:01\r\u001b[K     |██████████████████████████▍     | 819kB 5.0MB/s eta 0:00:01\r\u001b[K     |██████████████████████████▊     | 829kB 5.0MB/s eta 0:00:01\r\u001b[K     |███████████████████████████     | 839kB 5.0MB/s eta 0:00:01\r\u001b[K     |███████████████████████████▍    | 849kB 5.0MB/s eta 0:00:01\r\u001b[K     |███████████████████████████▊    | 860kB 5.0MB/s eta 0:00:01\r\u001b[K     |████████████████████████████    | 870kB 5.0MB/s eta 0:00:01\r\u001b[K     |████████████████████████████▍   | 880kB 5.0MB/s eta 0:00:01\r\u001b[K     |████████████████████████████▊   | 890kB 5.0MB/s eta 0:00:01\r\u001b[K     |█████████████████████████████   | 901kB 5.0MB/s eta 0:00:01\r\u001b[K     |█████████████████████████████▍  | 911kB 5.0MB/s eta 0:00:01\r\u001b[K     |█████████████████████████████▊  | 921kB 5.0MB/s eta 0:00:01\r\u001b[K     |██████████████████████████████  | 931kB 5.0MB/s eta 0:00:01\r\u001b[K     |██████████████████████████████▎ | 942kB 5.0MB/s eta 0:00:01\r\u001b[K     |██████████████████████████████▋ | 952kB 5.0MB/s eta 0:00:01\r\u001b[K     |███████████████████████████████ | 962kB 5.0MB/s eta 0:00:01\r\u001b[K     |███████████████████████████████▎| 972kB 5.0MB/s eta 0:00:01\r\u001b[K     |███████████████████████████████▋| 983kB 5.0MB/s eta 0:00:01\r\u001b[K     |████████████████████████████████| 993kB 5.0MB/s eta 0:00:01\r\u001b[K     |████████████████████████████████| 1.0MB 5.0MB/s \n",
            "\u001b[?25hRequirement already satisfied, skipping upgrade: numpy>=1.6.0 in /usr/local/lib/python3.6/dist-packages (from scikit-fuzzy) (1.18.5)\n",
            "Requirement already satisfied, skipping upgrade: scipy>=0.9.0 in /usr/local/lib/python3.6/dist-packages (from scikit-fuzzy) (1.4.1)\n",
            "Requirement already satisfied, skipping upgrade: networkx>=1.9.0 in /usr/local/lib/python3.6/dist-packages (from scikit-fuzzy) (2.5)\n",
            "Requirement already satisfied, skipping upgrade: decorator>=4.3.0 in /usr/local/lib/python3.6/dist-packages (from networkx>=1.9.0->scikit-fuzzy) (4.4.2)\n",
            "Building wheels for collected packages: scikit-fuzzy\n",
            "  Building wheel for scikit-fuzzy (setup.py) ... \u001b[?25l\u001b[?25hdone\n",
            "  Created wheel for scikit-fuzzy: filename=scikit_fuzzy-0.4.2-cp36-none-any.whl size=894070 sha256=438cffbfa28b6ba0600429964ed7237b512a9a09b334b3221195ff26f8db792a\n",
            "  Stored in directory: /root/.cache/pip/wheels/b9/4e/77/da79b16f64ef1738d95486e2731eea09d73e90a72465096600\n",
            "Successfully built scikit-fuzzy\n",
            "Installing collected packages: scikit-fuzzy\n",
            "Successfully installed scikit-fuzzy-0.4.2\n"
          ],
          "name": "stdout"
        }
      ]
    },
    {
      "cell_type": "code",
      "metadata": {
        "id": "YuE7zlQHT_sN",
        "outputId": "e76836d9-d812-4388-bbbf-af3d4b133e1c",
        "colab": {
          "base_uri": "https://localhost:8080/",
          "height": 122
        }
      },
      "source": [
        "pip install -U scikit-fuzzy\n"
      ],
      "execution_count": 72,
      "outputs": [
        {
          "output_type": "stream",
          "text": [
            "Requirement already up-to-date: scikit-fuzzy in /usr/local/lib/python3.6/dist-packages (0.4.2)\n",
            "Requirement already satisfied, skipping upgrade: scipy>=0.9.0 in /usr/local/lib/python3.6/dist-packages (from scikit-fuzzy) (1.4.1)\n",
            "Requirement already satisfied, skipping upgrade: networkx>=1.9.0 in /usr/local/lib/python3.6/dist-packages (from scikit-fuzzy) (2.5)\n",
            "Requirement already satisfied, skipping upgrade: numpy>=1.6.0 in /usr/local/lib/python3.6/dist-packages (from scikit-fuzzy) (1.18.5)\n",
            "Requirement already satisfied, skipping upgrade: decorator>=4.3.0 in /usr/local/lib/python3.6/dist-packages (from networkx>=1.9.0->scikit-fuzzy) (4.4.2)\n"
          ],
          "name": "stdout"
        }
      ]
    },
    {
      "cell_type": "code",
      "metadata": {
        "id": "KQ-fAWsB96NF"
      },
      "source": [
        "import numpy as np\n",
        "import skfuzzy as fuzz\n",
        "import matplotlib.pyplot as plt"
      ],
      "execution_count": 73,
      "outputs": []
    },
    {
      "cell_type": "code",
      "metadata": {
        "id": "FgT10n5YUiQs"
      },
      "source": [
        "def RangeSubjektif (_low, _high, _step):\n",
        "    subjektif = np.arange(_low, _high, _step)\n",
        "    return subjektif"
      ],
      "execution_count": 74,
      "outputs": []
    },
    {
      "cell_type": "code",
      "metadata": {
        "id": "GIwHDmd_V6Zl"
      },
      "source": [
        "def AlgoritmaFuzzyZalma(_rule, _range_subjektif, _title):\n",
        "    lo = fuzz.trimf(_range_subjektif, _rule[0])\n",
        "    mi = fuzz.trimf(_range_subjektif, _rule[1])\n",
        "    hi = fuzz.trimf(_range_subjektif, _rule[2])\n",
        "    \n",
        "    fig, ax = plt.subplots(nrows=1, figsize=(6,3))\n",
        "    ax.plot(_range_subjektif, lo, 'b', linewidth=1.5, label = 'Remaja')\n",
        "    ax.plot(_range_subjektif, mi, 'g', linewidth=1.5, label = 'Cukup Dewasa')\n",
        "    ax.plot(_range_subjektif, hi, 'r', linewidth=1.5, label = 'Dewasa')\n",
        "    \n",
        "    ax.set_title(_title)\n",
        "    ax.legend()\n",
        "    \n",
        "    ax.spines['top'].set_visible(False)\n",
        "    ax.spines['right'].set_visible(False)\n",
        "    ax.get_xaxis().tick_bottom()\n",
        "    ax.get_yaxis().tick_left()\n",
        "    \n",
        "    plt.tight_layout()\n",
        "    plt.show()\n",
        "    \n",
        "    return lo, mi, hi\n"
      ],
      "execution_count": 75,
      "outputs": []
    },
    {
      "cell_type": "code",
      "metadata": {
        "id": "EWHOJv7GWKR-"
      },
      "source": [
        "\n",
        "def AlgoritmaFuzzyZalma2(_rule, _range_subjektif, _title):\n",
        "    mi = fuzz.trimf(_range_subjektif, _rule[0])\n",
        "    hi = fuzz.trimf(_range_subjektif, _rule[1])\n",
        "    \n",
        "    fig, ax = plt.subplots(nrows=1, figsize=(6,3))\n",
        "    ax.plot(_range_subjektif, mi, 'g', linewidth=1.5, label = 'Baru')\n",
        "    ax.plot(_range_subjektif, hi, 'r', linewidth=1.5, label = 'Lama')\n",
        "    \n",
        "    ax.set_title(_title)\n",
        "    ax.legend()\n",
        "    \n",
        "    ax.spines['top'].set_visible(False)\n",
        "    ax.spines['right'].set_visible(False)\n",
        "    ax.get_xaxis().tick_bottom()\n",
        "    ax.get_yaxis().tick_left()\n",
        "    \n",
        "    plt.tight_layout()\n",
        "    plt.show()\n",
        "    \n",
        "    return mi, hi\n",
        "    "
      ],
      "execution_count": 76,
      "outputs": []
    },
    {
      "cell_type": "code",
      "metadata": {
        "id": "gRcuBa1EUl6m",
        "outputId": "b5dced94-6c71-40f9-f261-1005ce75c169",
        "colab": {
          "base_uri": "https://localhost:8080/",
          "height": 433
        }
      },
      "source": [
        "xumur = RangeSubjektif(18, 20, 1)\n",
        "rumur = np.array([\n",
        "    [0, 18, 19],\n",
        "    [19, 19, 20],\n",
        "    [20, 35, 40],\n",
        "])\n",
        "\n",
        "xmasa_kerja = RangeSubjektif(2, 15, 1)\n",
        "rmasa_kerja = np.array([ \n",
        "     [0, 4, 9],\n",
        "     [6, 10, 15]                   \n",
        "])\n",
        "\n",
        "lo_umur, mi_umur, hi_umur = AlgoritmaFuzzyZalma (rumur, xumur, 'umur')\n",
        "mi_masa_kerja, hi_masa_kerja = AlgoritmaFuzzyZalma2(rmasa_kerja, xmasa_kerja, 'Masa Kerja')"
      ],
      "execution_count": 77,
      "outputs": [
        {
          "output_type": "display_data",
          "data": {
            "image/png": "[encoded data removed]",
            "text/plain": [
              "<Figure size 432x216 with 1 Axes>"
            ]
          },
          "metadata": {
            "tags": [],
            "needs_background": "light"
          }
        },
        {
          "output_type": "display_data",
          "data": {
            "image/png": "[encoded data removed]",
            "text/plain": [
              "<Figure size 432x216 with 1 Axes>"
            ]
          },
          "metadata": {
            "tags": [],
            "needs_background": "light"
          }
        }
      ]
    },
    {
      "cell_type": "code",
      "metadata": {
        "id": "t4wCGkwGWQAj"
      },
      "source": [
        "xgaji = RangeSubjektif(680, 1500, 1)\n",
        "rgaji = np.array([\n",
        "    [0, 600, 800],\n",
        "    [700, 800, 900],\n",
        "    [1000, 1500, 1500]\n",
        "])\n"
      ],
      "execution_count": 78,
      "outputs": []
    },
    {
      "cell_type": "code",
      "metadata": {
        "id": "Seuxq_2OWRVn",
        "outputId": "e5e29ae9-5609-4cac-814e-81ed0fc072d6",
        "colab": {
          "base_uri": "https://localhost:8080/",
          "height": 641
        }
      },
      "source": [
        "#Menampilkan Grafik\n",
        "lo_umur, mi_umur, hi_umur = AlgoritmaFuzzyZalma(rumur, xumur, 'Umur')\n",
        "mi_masa_kerja, hi_masa_kerja = AlgoritmaFuzzyZalma2(rmasa_kerja, xmasa_kerja, 'Masa Kerja')\n",
        "lo_gaji, mi_gaji, hi_gaji = AlgoritmaFuzzyZalma(rgaji, xgaji, 'Gaji')"
      ],
      "execution_count": 79,
      "outputs": [
        {
          "output_type": "display_data",
          "data": {
            "image/png": "[encoded data removed]",
            "text/plain": [
              "<Figure size 432x216 with 1 Axes>"
            ]
          },
          "metadata": {
            "tags": [],
            "needs_background": "light"
          }
        },
        {
          "output_type": "display_data",
          "data": {
            "image/png": "[encoded data removed]",
            "text/plain": [
              "<Figure size 432x216 with 1 Axes>"
            ]
          },
          "metadata": {
            "tags": [],
            "needs_background": "light"
          }
        },
        {
          "output_type": "display_data",
          "data": {
            "image/png": "[encoded data removed]",
            "text/plain": [
              "<Figure size 432x216 with 1 Axes>"
            ]
          },
          "metadata": {
            "tags": [],
            "needs_background": "light"
          }
        }
      ]
    },
    {
      "cell_type": "code",
      "metadata": {
        "id": "oFZV_rq9WRvK"
      },
      "source": [
        " def FungsiKeanggotaan(_range, _lo, _mi, _hi, _nilai):\n",
        "    lo = fuzz.interp_membership(_range, _lo, _nilai)\n",
        "    mi = fuzz.interp_membership(_range, _mi, _nilai)\n",
        "    hi = fuzz.interp_membership(_range, _hi, _nilai)\n",
        "    \n",
        "    return lo, mi,hi\n",
        "\n"
      ],
      "execution_count": 80,
      "outputs": []
    },
    {
      "cell_type": "code",
      "metadata": {
        "id": "hv2NVtdXWlrE"
      },
      "source": [
        "def FungsiKeanggotaan2(_range, _mi, _hi, _nilai):\n",
        "    mi = fuzz.interp_membership(_range, _mi, _nilai)\n",
        "    hi = fuzz.interp_membership(_range, _hi, _nilai)\n",
        "    \n",
        "    return mi, hi"
      ],
      "execution_count": 81,
      "outputs": []
    },
    {
      "cell_type": "code",
      "metadata": {
        "id": "awMBRmo6WmWM",
        "outputId": "d986f0be-844e-4558-d142-24281cfeac05",
        "colab": {
          "base_uri": "https://localhost:8080/",
          "height": 187
        }
      },
      "source": [
        "umur_angg_01 = FungsiKeanggotaan(xumur, lo_umur, mi_umur, hi_umur, umur_01)\n",
        "umur_angg_02 = FungsiKeanggotaan(xumur, lo_umur, mi_umur, hi_umur, umur_02)\n",
        "umur_angg_03 = FungsiKeanggotaan(xumur, lo_umur, mi_umur, hi_umur, umur_03)\n",
        "umur_angg_04 = FungsiKeanggotaan(xumur, lo_umur, mi_umur, hi_umur, umur_04)\n",
        "umur_angg_05 = FungsiKeanggotaan(xumur, lo_umur, mi_umur, hi_umur, umur_05)\n",
        "umur_angg_06 = FungsiKeanggotaan(xumur, lo_umur, mi_umur, hi_umur, umur_06)\n",
        "umur_angg_07 = FungsiKeanggotaan(xumur, lo_umur, mi_umur, hi_umur, umur_07)\n",
        "umur_angg_08 = FungsiKeanggotaan(xumur, lo_umur, mi_umur, hi_umur, umur_08)\n",
        "umur_angg_09 = FungsiKeanggotaan(xumur, lo_umur, mi_umur, hi_umur, umur_09)\n",
        "umur_angg_10 = FungsiKeanggotaan(xumur, lo_umur, mi_umur, hi_umur, umur_10)\n",
        "\n",
        "print(\"umur_angg_01 :\", umur_angg_01)\n",
        "print(\"umur_angg_02 :\", umur_angg_02)\n",
        "print(\"umur_angg_03 :\", umur_angg_03)\n",
        "print(\"umur_angg_04 :\", umur_angg_04)\n",
        "print(\"umur_angg_05 :\", umur_angg_05)\n",
        "print(\"umur_angg_06 :\", umur_angg_06)\n",
        "print(\"umur_angg_07 :\", umur_angg_07)\n",
        "print(\"umur_angg_08 :\", umur_angg_08)\n",
        "print(\"umur_angg_09 :\", umur_angg_09)\n",
        "print(\"umur_angg_10 :\", umur_angg_10)"
      ],
      "execution_count": 82,
      "outputs": [
        {
          "output_type": "stream",
          "text": [
            "umur_angg_01 : (0.0, 0.0, 0.0)\n",
            "umur_angg_02 : (0.0, 1.0, 0.0)\n",
            "umur_angg_03 : (1.0, 0.0, 0.0)\n",
            "umur_angg_04 : (0.0, 0.0, 0.0)\n",
            "umur_angg_05 : (0.0, 1.0, 0.0)\n",
            "umur_angg_06 : (0.0, 1.0, 0.0)\n",
            "umur_angg_07 : (1.0, 0.0, 0.0)\n",
            "umur_angg_08 : (0.0, 0.0, 0.0)\n",
            "umur_angg_09 : (0.0, 0.0, 0.0)\n",
            "umur_angg_10 : (0.0, 1.0, 0.0)\n"
          ],
          "name": "stdout"
        }
      ]
    },
    {
      "cell_type": "code",
      "metadata": {
        "id": "Novo8Q_4WsT6",
        "outputId": "27731b05-da83-4bce-ed33-ed682ed76a1c",
        "colab": {
          "base_uri": "https://localhost:8080/",
          "height": 187
        }
      },
      "source": [
        " masa_kerja_angg_01 = FungsiKeanggotaan2(xmasa_kerja, mi_masa_kerja, hi_masa_kerja, masa_kerja_01)\n",
        "masa_kerja_angg_02 = FungsiKeanggotaan2(xmasa_kerja, mi_masa_kerja, hi_masa_kerja, masa_kerja_02)\n",
        "masa_kerja_angg_03 = FungsiKeanggotaan2(xmasa_kerja, mi_masa_kerja, hi_masa_kerja, masa_kerja_03)\n",
        "masa_kerja_angg_04 = FungsiKeanggotaan2(xmasa_kerja, mi_masa_kerja, hi_masa_kerja, masa_kerja_04)\n",
        "masa_kerja_angg_05 = FungsiKeanggotaan2(xmasa_kerja, mi_masa_kerja, hi_masa_kerja, masa_kerja_05)\n",
        "masa_kerja_angg_06 = FungsiKeanggotaan2(xmasa_kerja, mi_masa_kerja, hi_masa_kerja, masa_kerja_06)\n",
        "masa_kerja_angg_07 = FungsiKeanggotaan2(xmasa_kerja, mi_masa_kerja, hi_masa_kerja, masa_kerja_07)\n",
        "masa_kerja_angg_08 = FungsiKeanggotaan2(xmasa_kerja, mi_masa_kerja, hi_masa_kerja, masa_kerja_08)\n",
        "masa_kerja_angg_09 = FungsiKeanggotaan2(xmasa_kerja, mi_masa_kerja, hi_masa_kerja, masa_kerja_09)\n",
        "masa_kerja_angg_10 = FungsiKeanggotaan2(xmasa_kerja, mi_masa_kerja, hi_masa_kerja, masa_kerja_10)\n",
        "\n",
        "print(\"masa_kerja_angg_01 :\", masa_kerja_angg_01)\n",
        "print(\"masa_kerja_angg_02 :\", masa_kerja_angg_02)\n",
        "print(\"masa_kerja_angg_03 :\", masa_kerja_angg_03)\n",
        "print(\"masa_kerja_angg_04 :\", masa_kerja_angg_04)\n",
        "print(\"masa_kerja_angg_05 :\", masa_kerja_angg_05)\n",
        "print(\"masa_kerja_angg_06 :\", masa_kerja_angg_06)\n",
        "print(\"masa_kerja_angg_07 :\", masa_kerja_angg_07)\n",
        "print(\"masa_kerja_angg_08 :\", masa_kerja_angg_08)\n",
        "print(\"masa_kerja_angg_09 :\", masa_kerja_angg_09)\n",
        "print(\"masa_kerja_angg_10 :\", masa_kerja_angg_10)"
      ],
      "execution_count": 83,
      "outputs": [
        {
          "output_type": "stream",
          "text": [
            "masa_kerja_angg_01 : (0.6, 0.0)\n",
            "masa_kerja_angg_02 : (0.0, 0.0)\n",
            "masa_kerja_angg_03 : (0.0, 1.0)\n",
            "masa_kerja_angg_04 : (1.0, 0.0)\n",
            "masa_kerja_angg_05 : (0.8, 0.0)\n",
            "masa_kerja_angg_06 : (0.0, 0.6)\n",
            "masa_kerja_angg_07 : (0.0, 0.75)\n",
            "masa_kerja_angg_08 : (0.6, 0.0)\n",
            "masa_kerja_angg_09 : (0.5, 0.0)\n",
            "masa_kerja_angg_10 : (0.2, 0.5)\n"
          ],
          "name": "stdout"
        }
      ]
    },
    {
      "cell_type": "code",
      "metadata": {
        "id": "c37_GYlwUwhb",
        "outputId": "ae565d53-8d26-47db-c879-26248b8169c7",
        "colab": {
          "base_uri": "https://localhost:8080/",
          "height": 187
        }
      },
      "source": [
        "gaji_angg_01 = FungsiKeanggotaan(xgaji, lo_gaji, mi_gaji, hi_gaji, gaji_01)\n",
        "gaji_angg_02 = FungsiKeanggotaan(xgaji, lo_gaji, mi_gaji, hi_gaji, gaji_02)\n",
        "gaji_angg_03 = FungsiKeanggotaan(xgaji, lo_gaji, mi_gaji, hi_gaji, gaji_03)\n",
        "gaji_angg_04 = FungsiKeanggotaan(xgaji, lo_gaji, mi_gaji, hi_gaji, gaji_04)\n",
        "gaji_angg_05 = FungsiKeanggotaan(xgaji, lo_gaji, mi_gaji, hi_gaji, gaji_05)\n",
        "gaji_angg_06 = FungsiKeanggotaan(xgaji, lo_gaji, mi_gaji, hi_gaji, gaji_06)\n",
        "gaji_angg_07 = FungsiKeanggotaan(xgaji, lo_gaji, mi_gaji, hi_gaji, gaji_07)\n",
        "gaji_angg_08 = FungsiKeanggotaan(xgaji, lo_gaji, mi_gaji, hi_gaji, gaji_08)\n",
        "gaji_angg_09 = FungsiKeanggotaan(xgaji, lo_gaji, mi_gaji, hi_gaji, gaji_09)\n",
        "gaji_angg_10 = FungsiKeanggotaan(xgaji, lo_gaji, mi_gaji, hi_gaji, gaji_10)\n",
        "\n",
        "print(\"gaji_angg_01 :\", gaji_angg_01)\n",
        "print(\"gaji_angg_02 :\", gaji_angg_02)\n",
        "print(\"gaji_angg_03 :\", gaji_angg_03)\n",
        "print(\"gaji_angg_04 :\", gaji_angg_04)\n",
        "print(\"gaji_angg_05 :\", gaji_angg_05)\n",
        "print(\"gaji_angg_06 :\", gaji_angg_06)\n",
        "print(\"gaji_angg_07 :\", gaji_angg_07)\n",
        "print(\"gaji_angg_08 :\", gaji_angg_08)\n",
        "print(\"gaji_angg_09 :\", gaji_angg_09)\n",
        "print(\"gaji_angg_10 :\", gaji_angg_10)"
      ],
      "execution_count": 84,
      "outputs": [
        {
          "output_type": "stream",
          "text": [
            "gaji_angg_01 : (0.25, 0.5, 0.0)\n",
            "gaji_angg_02 : (0.0, 0.0, 0.0)\n",
            "gaji_angg_03 : (0.0, 0.0, 0.5)\n",
            "gaji_angg_04 : (0.0, 0.0, 0.0)\n",
            "gaji_angg_05 : (0.0, 0.0, 0.0)\n",
            "gaji_angg_06 : (0.0, 0.0, 0.0)\n",
            "gaji_angg_07 : (0.5, 0.0, 0.0)\n",
            "gaji_angg_08 : (0.6, 0.0, 0.0)\n",
            "gaji_angg_09 : (0.0, 0.0, 0.0)\n",
            "gaji_angg_10 : (0.0, 0.0, 0.5)\n"
          ],
          "name": "stdout"
        }
      ]
    },
    {
      "cell_type": "code",
      "metadata": {
        "id": "5o_ocXyvU09f"
      },
      "source": [
        ""
      ],
      "execution_count": null,
      "outputs": []
    }
  ]
}